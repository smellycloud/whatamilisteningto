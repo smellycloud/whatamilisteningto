{
 "cells": [
  {
   "cell_type": "markdown",
   "id": "37ea55a5",
   "metadata": {},
   "source": [
    "## Imports"
   ]
  },
  {
   "cell_type": "code",
   "execution_count": null,
   "id": "74b01f0f",
   "metadata": {},
   "outputs": [],
   "source": [
    "import commons\n",
    "import os\n",
    "import shutil\n",
    "import platform\n",
    "import sys\n",
    "import threading\n",
    "import io\n",
    "\n",
    "import matplotlib\n",
    "\n",
    "import matplotlib.pyplot as plt\n",
    "import matplotlib.image as mpimg\n",
    "from PIL import Image\n",
    "\n",
    "matplotlib.use('TkAgg')\n",
    "\n",
    "import librosa\n",
    "import librosa.display\n",
    "\n",
    "\n",
    "import numpy as np\n",
    "import pandas as pd"
   ]
  },
  {
   "cell_type": "code",
   "execution_count": null,
   "id": "ae859edb",
   "metadata": {},
   "outputs": [],
   "source": [
    "np.random.seed(41)"
   ]
  },
  {
   "cell_type": "markdown",
   "id": "4dfed868",
   "metadata": {},
   "source": [
    "## Constants"
   ]
  },
  {
   "cell_type": "code",
   "execution_count": null,
   "id": "e8b5affa",
   "metadata": {},
   "outputs": [],
   "source": [
    "#print(os.getcwd())\n",
    "PROJECT_ROOT = os.getcwd()\n",
    "MOVED_LIST = list()\n",
    "ARRANGED_LIST = list()\n",
    "DPI = 100\n",
    "TARGET = 'genre'\n",
    "SAMPLE_RATE = 12000"
   ]
  },
  {
   "cell_type": "markdown",
   "id": "22a3435c",
   "metadata": {},
   "source": [
    "## Helper Functions"
   ]
  },
  {
   "cell_type": "code",
   "execution_count": null,
   "id": "e9719430",
   "metadata": {},
   "outputs": [],
   "source": [
    "def MatplotlibClearMemory():\n",
    "    usedbackend = matplotlib.get_backend()\n",
    "    matplotlib.use('TkAgg')\n",
    "    allfignums = matplotlib.pyplot.get_fignums()\n",
    "    for i in allfignums:\n",
    "        fig = matplotlib.pyplot.figure(i)\n",
    "        fig.clear()\n",
    "        matplotlib.pyplot.close( fig )\n",
    "    matplotlib.use(usedbackend)"
   ]
  },
  {
   "cell_type": "code",
   "execution_count": null,
   "id": "5521b3fe",
   "metadata": {},
   "outputs": [],
   "source": [
    "def save_plot(p, fig, target_filedir):\n",
    "    fig.savefig(target_filedir, \n",
    "                format='png',\n",
    "                bbox_inches='tight', \n",
    "                pad_inches=0.0,\n",
    "                transparent=True, dpi=DPI)\n",
    "    plt.close(fig)\n",
    "    MatplotlibClearMemory()"
   ]
  },
  {
   "cell_type": "code",
   "execution_count": null,
   "id": "d45ebbee",
   "metadata": {},
   "outputs": [],
   "source": [
    "track_info = None\n",
    "if TARGET == 'genre':\n",
    "    track_info = 'autotagging_genre.tsv'\n",
    "if TARGET == 'moodtheme':\n",
    "    track_info = 'autotagging_moodtheme.tsv'\n",
    "    "
   ]
  },
  {
   "cell_type": "markdown",
   "id": "6d24a06f",
   "metadata": {},
   "source": [
    "## Extract mel-spectrogram images from npy"
   ]
  },
  {
   "cell_type": "code",
   "execution_count": null,
   "id": "732c50f2",
   "metadata": {},
   "outputs": [],
   "source": [
    "def get_spectograms_from_folder():\n",
    "    autotagging_file = os.path.join(PROJECT_ROOT, track_info)\n",
    "    tracks, tags, extra = commons.read_file(autotagging_file)\n",
    "    head = list(tags.keys())[0]\n",
    "    classes = tags[head].keys()\n",
    "\n",
    "    for cls in classes:\n",
    "        new_directory = os.path.join(PROJECT_ROOT, 'spectrograms_png_'+TARGET, cls)\n",
    "        if not os.path.exists(new_directory):\n",
    "            os.makedirs(new_directory)\n",
    "    \n",
    "    for i in range(0, 100, 1):\n",
    "        index = str(i).zfill(2)\n",
    "        current_directory = os.path.join(PROJECT_ROOT, index)\n",
    "        print('CURRENT DIR:{0}'.format(current_directory), flush=True, end='\\r')\n",
    "        files = os.listdir(current_directory)\n",
    "        #print(files)\n",
    "        for file in files:\n",
    "            try:\n",
    "                filename = file.split('.')[0]\n",
    "                cls = str(sorted(list(tracks[int(filename)][TARGET]))[0])\n",
    "                #genres = list(tracks[int(filename)][TARGET])\n",
    "                current_filedir = os.path.join(current_directory, filename+'.npy')\n",
    "                target_filedir = os.path.join(PROJECT_ROOT, \n",
    "                                                'spectrograms_png_'+TARGET, \n",
    "                                                split, \n",
    "                                                cls,\n",
    "                                                filename+'.png')\n",
    "                if os.path.isfile(os.path.join(target_filedir)):\n",
    "                    print('{0} already in {1}'.format(filename, cls), flush=True, end='\\r')\n",
    "                else:\n",
    "                    data = np.load(current_filedir)\n",
    "                    fig = plt.figure(frameon=False, dpi=DPI)\n",
    "                    p = librosa.display.specshow(data, \n",
    "                                                    cmap=None,\n",
    "                                                    sr=12000, \n",
    "                                                    hop_length=256,\n",
    "                                                    win_length=512,\n",
    "                                                    fmin=0,\n",
    "                                                    fmax=None,\n",
    "                                                    htk=False\n",
    "                                                )\n",
    "                    save_plot(p, fig, target_filedir)\n",
    "                    #print('Moved', filename, 'to', cls)\n",
    "                    print('Folder {0} | Moved {1} to {2}'.format(index, str(filename), cls), flush=True, end='\\r')\n",
    "            except:\n",
    "                print('Error at {0}'.format(filename), flush=True, end='\\r')\n",
    "                \n",
    "                    "
   ]
  },
  {
   "cell_type": "code",
   "execution_count": null,
   "id": "778dd3e3",
   "metadata": {},
   "outputs": [],
   "source": [
    "get_spectograms_from_folder()"
   ]
  },
  {
   "cell_type": "markdown",
   "id": "185cfb5c",
   "metadata": {},
   "source": [
    "## Check if any generated images are corrupt"
   ]
  },
  {
   "cell_type": "code",
   "execution_count": null,
   "id": "b44a6c8d",
   "metadata": {},
   "outputs": [],
   "source": [
    "folder_path = os.path.join(PROJECT_ROOT, 'spectrograms_png_'+TARGET, 'train')\n",
    "extensions = []\n",
    "for fldr in os.listdir(folder_path):\n",
    "    sub_folder_path = os.path.join(folder_path, fldr)\n",
    "    for filee in os.listdir(sub_folder_path):\n",
    "        file_path = os.path.join(sub_folder_path, filee)\n",
    "        print('** Path: {}  **'.format(file_path), end=\"\\r\", flush=True)\n",
    "        im = Image.open(file_path)\n",
    "        rgb_im = im.convert('RGB')\n",
    "        if filee.split('.')[1] not in extensions:\n",
    "            extensions.append(filee.split('.')[1]) "
   ]
  },
  {
   "cell_type": "markdown",
   "id": "0548ffa3",
   "metadata": {},
   "source": [
    "## Create train-test-validation split 60-20-20"
   ]
  },
  {
   "cell_type": "code",
   "execution_count": null,
   "id": "7aa52036",
   "metadata": {},
   "outputs": [],
   "source": [
    "def create_validtest(split=0.20):\n",
    "    train_directory = os.path.join(PROJECT_ROOT, 'spectrograms_png_'+TARGET, 'train')\n",
    "    valid_directory = os.path.join(PROJECT_ROOT, 'spectrograms_png_'+TARGET, 'valid')\n",
    "    test_directory = os.path.join(PROJECT_ROOT, 'spectrograms_png_'+TARGET, 'test')\n",
    "    n_classes = len(os.listdir(train_directory))\n",
    "    print(train_directory)\n",
    "    print('TRAIN DIR:', train_directory)\n",
    "    print('VALID DIR:', valid_directory)\n",
    "    print('TEST DIR:', test_directory)\n",
    "    print('TOTAL NUMBER OF CLASSES:', n_classes)\n",
    "    for cls in classes:\n",
    "        if not os.path.exists(os.path.join(valid_directory, cls)):\n",
    "            os.makedirs(os.path.join(valid_directory, cls))\n",
    "        if not os.path.exists(os.path.join(test_directory, cls)):\n",
    "            os.makedirs(os.path.join(test_directory, cls))\n",
    "    # Get random train samples from each class\n",
    "    for cls in classes:\n",
    "        os.chdir(os.path.join(train_directory, cls))\n",
    "        file_list = os.listdir()\n",
    "        n_instances = len(os.listdir(os.path.join(train_directory, cls)))\n",
    "        print('INSTANCES FOR ', cls, ':', n_instances,'\\n')\n",
    "        n_samples = int((split * n_instances) * 2)\n",
    "        print('GRABBING',n_samples,'SAMPLES AT RANDOM')\n",
    "        samples = np.random.choice(n_instances, n_samples, replace=False)\n",
    "        valid_samples = samples[:int(len(samples)/2)]\n",
    "        test_samples = samples[int(len(samples)/2):]\n",
    "        print('VALID SAMPLES:', valid_samples)\n",
    "        print('TEST SAMPLES:', test_samples)\n",
    "        remaining_train_samples = n_samples - len(samples)\n",
    "        try:\n",
    "            for sample in valid_samples:\n",
    "                if sample in test_samples:\n",
    "                    print('repeat!')\n",
    "                if file_list[sample] in MOVED_LIST:\n",
    "                    print(file_list[sample], 'already in validation')\n",
    "                    continue\n",
    "                #print('FILENAME - VALID:', file_list[sample])\n",
    "                shutil.move(os.path.join(train_directory, cls, file_list[sample]), \n",
    "                                os.path.join(valid_directory, cls, file_list[sample]))\n",
    "                MOVED_LIST.append(file_list[sample])\n",
    "            for sample in test_samples:\n",
    "                if sample in valid_samples:\n",
    "                    print('repeat!')\n",
    "                if file_list[sample] in MOVED_LIST:\n",
    "                    print(file_list[sample], 'already in test')\n",
    "        #print('FILENAME - TEST:', file_list[sample])\n",
    "                shutil.move(os.path.join(train_directory, cls, file_list[sample]), \n",
    "                                os.path.join(test_directory, cls, file_list[sample]))\n",
    "                MOVED_LIST.append(file_list[sample])\n",
    "        except:\n",
    "            print('???')\n",
    "        \n",
    "    "
   ]
  },
  {
   "cell_type": "code",
   "execution_count": null,
   "id": "2b8e716d",
   "metadata": {
    "scrolled": true
   },
   "outputs": [],
   "source": [
    "create_validtest()"
   ]
  },
  {
   "cell_type": "markdown",
   "id": "2bb406f2",
   "metadata": {},
   "source": [
    "### Convert spectrogram back to audio"
   ]
  },
  {
   "cell_type": "code",
   "execution_count": null,
   "id": "492b3e10",
   "metadata": {},
   "outputs": [],
   "source": [
    "from scipy.io import wavfile"
   ]
  },
  {
   "cell_type": "code",
   "execution_count": null,
   "id": "fbe2e629",
   "metadata": {},
   "outputs": [],
   "source": [
    "def spec_to_audio(file_dir):\n",
    "    track_number = int(file_dir.split('/')[-1].split('.')[0])\n",
    "    #print(tracks[track_number])\n",
    "    spec_file = np.load(file_dir)\n",
    "    print(TARGET+':', list(tracks[track_number][TARGET])[0])\n",
    "    print('Duration:', tracks[track_number]['duration'])\n",
    "    \n",
    "    S = librosa.feature.inverse.mel_to_audio(spec_file, \n",
    "                                             sr=12000, \n",
    "                                             hop_length=256,\n",
    "                                             win_length=512,\n",
    "                                             fmin=0,\n",
    "                                             fmax=None,\n",
    "                                             htk=False,\n",
    "                                             center=True,\n",
    "                                             )\n",
    "    #y = librosa.griffinlim(S)\n",
    "    wav_dir = os.path.join(PROJECT_ROOT, str(track_number) + '.wav')\n",
    "    #save_dir = '/'.join(file_dir.split('/')[:-1])\n",
    "    print(wav_dir)\n",
    "    wavfile.write(wav_dir, 12000, S)\n",
    "    if os.path.isfile(wav_dir):\n",
    "        return True\n",
    "    return False\n",
    "    "
   ]
  }
 ],
 "metadata": {
  "kernelspec": {
   "display_name": "Python 3 (ipykernel)",
   "language": "python",
   "name": "python3"
  },
  "language_info": {
   "codemirror_mode": {
    "name": "ipython",
    "version": 3
   },
   "file_extension": ".py",
   "mimetype": "text/x-python",
   "name": "python",
   "nbconvert_exporter": "python",
   "pygments_lexer": "ipython3",
   "version": "3.10.11"
  }
 },
 "nbformat": 4,
 "nbformat_minor": 5
}
